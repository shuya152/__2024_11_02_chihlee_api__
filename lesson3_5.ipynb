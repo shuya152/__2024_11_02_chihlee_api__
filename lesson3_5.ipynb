{
 "cells": [
  {
   "cell_type": "code",
   "execution_count": null,
   "metadata": {},
   "outputs": [],
   "source": [
    "#typehine\n",
    "#變數,參數,return\n",
    "i:int = 10"
   ]
  },
  {
   "cell_type": "code",
   "execution_count": null,
   "metadata": {},
   "outputs": [],
   "source": [
    "\n",
    "#python是First Class程式語言\n",
    "#Function也有型別\n",
    "#變數可以儲存Function\n",
    "#Function可以當作參數\n",
    "#Function可以當作傳出值"
   ]
  },
  {
   "cell_type": "code",
   "execution_count": null,
   "metadata": {},
   "outputs": [],
   "source": [
    "\n",
    "from typing import Callable\n",
    "\n",
    "MyFunction = Callable[[int,int],int]\n",
    "\n",
    "def add(a:int,b:int) -> int:\n",
    "    return a + b\n",
    "\n",
    "myfun:MyFunction = add\n",
    "\n",
    "myfun(9, 10)"
   ]
  },
  {
   "cell_type": "code",
   "execution_count": 1,
   "metadata": {},
   "outputs": [
    {
     "name": "stdout",
     "output_type": "stream",
     "text": [
      "function開始\n",
      "您好:robert\n",
      "您好:jenny\n",
      "function結束\n"
     ]
    }
   ],
   "source": [
    "#decorator的功能\n",
    "\n",
    "def decorator_function(original_function):\n",
    "    def wrapper_function():\n",
    "        print(\"function開始\")\n",
    "        original_function()\n",
    "        print(\"function結束\")\n",
    "    return wrapper_function\n",
    "\n",
    "def say_hello():\n",
    "    print(\"您好:robert\")\n",
    "    print(\"您好:jenny\")\n",
    "\n",
    "newFunction = decorator_function(say_hello)\n",
    "newFunction()"
   ]
  },
  {
   "cell_type": "code",
   "execution_count": 2,
   "metadata": {},
   "outputs": [
    {
     "name": "stdout",
     "output_type": "stream",
     "text": [
      "function開始\n",
      "您好:robert\n",
      "您好:jenny\n",
      "function結束\n"
     ]
    }
   ],
   "source": [
    "@decorator_function\n",
    "def abc():\n",
    "    print(\"您好:robert\")\n",
    "    print(\"您好:jenny\")\n",
    "\n",
    "abc()"
   ]
  }
 ],
 "metadata": {
  "kernelspec": {
   "display_name": "base",
   "language": "python",
   "name": "python3"
  },
  "language_info": {
   "codemirror_mode": {
    "name": "ipython",
    "version": 3
   },
   "file_extension": ".py",
   "mimetype": "text/x-python",
   "name": "python",
   "nbconvert_exporter": "python",
   "pygments_lexer": "ipython3",
   "version": "3.12.3"
  }
 },
 "nbformat": 4,
 "nbformat_minor": 2
}
