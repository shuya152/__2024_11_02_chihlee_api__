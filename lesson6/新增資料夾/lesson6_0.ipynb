{
 "cells": [
  {
   "cell_type": "code",
   "execution_count": 10,
   "metadata": {},
   "outputs": [
    {
     "name": "stdout",
     "output_type": "stream",
     "text": [
      "本期大樂透電腦選號號碼如下:\n",
      "1 13 26 41 43 44 27 \n",
      "特別號:27\n"
     ]
    }
   ],
   "source": [
    "import random\n",
    "\n",
    "def main():    \n",
    "    set1:set = set()   \n",
    "\n",
    "    while len(set1) < 7:\n",
    "        myrandNum=random.randint(1,49)\n",
    "        set1.add(myrandNum)\n",
    "        if len(set1) == 7:\n",
    "            SpecialNum = myrandNum\n",
    "            set1.remove(SpecialNum)\n",
    "            mysetlist = sorted(set1)\n",
    "            break\n",
    "    \n",
    "    mysetlist.append(SpecialNum)\n",
    "\n",
    "    print(\"本期大樂透電腦選號號碼如下:\")\n",
    "    for num in mysetlist:\n",
    "            print(num,end=\" \")\n",
    "    print() \n",
    "    print(f\"特別號:{SpecialNum}\")\n",
    "\n",
    "\n",
    "if __name__ == '__main__':\n",
    "    main()"
   ]
  }
 ],
 "metadata": {
  "kernelspec": {
   "display_name": "base",
   "language": "python",
   "name": "python3"
  },
  "language_info": {
   "codemirror_mode": {
    "name": "ipython",
    "version": 3
   },
   "file_extension": ".py",
   "mimetype": "text/x-python",
   "name": "python",
   "nbconvert_exporter": "python",
   "pygments_lexer": "ipython3",
   "version": "3.12.2"
  }
 },
 "nbformat": 4,
 "nbformat_minor": 2
}
