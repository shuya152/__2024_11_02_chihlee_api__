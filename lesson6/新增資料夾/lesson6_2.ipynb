{
 "cells": [
  {
   "cell_type": "code",
   "execution_count": 21,
   "metadata": {},
   "outputs": [
    {
     "data": {
      "text/plain": [
       "openpyxl.workbook.workbook.Workbook"
      ]
     },
     "execution_count": 21,
     "metadata": {},
     "output_type": "execute_result"
    }
   ],
   "source": [
    "from openpyxl import load_workbook, Workbook, worksheet\n",
    "\n",
    "wb:Workbook = load_workbook('aqi.xlsx')\n",
    "type(wb)"
   ]
  },
  {
   "cell_type": "code",
   "execution_count": null,
   "metadata": {},
   "outputs": [],
   "source": [
    "from pprint import pprint\n",
    "sheet:worksheet = wb.worksheets[0]\n",
    "type(sheet)\n",
    "sheets:list = []\n",
    "column_names:list[str] =[cell.value for cell in list(sheet)[0]]\n",
    "print(column_names)\n",
    "\n",
    "for row in list(sheet)[1:]:\n",
    "    site:dict = {}\n",
    "    for idx,cell in enumerate(row):        \n",
    "        #print(column_names[idx], item.value)\n",
    "        #print(idx,cell)\n",
    "        site[column_names[idx]] = cell.value\n",
    "    #print(\"===========\")\n",
    "    sheets.append(site)\n",
    "#print(len(sheets))\n",
    "pprint(sheets)\n",
    "    "
   ]
  },
  {
   "cell_type": "code",
   "execution_count": null,
   "metadata": {},
   "outputs": [],
   "source": [
    "from openpyxl import load_workbook, Workbook, worksheet\n",
    "\n",
    "wb:Workbook = load_workbook('aqi.xlsx')\n",
    "from pprint import pprint\n",
    "sheet:worksheet = wb.worksheets[0]\n",
    "sheets:list = []\n",
    "column_names:list[str] =[cell.value for cell in list(sheet)[0]]\n",
    "for row in list(sheet)[1:]:\n",
    "    site:dict = {column_names[idx]:cell.value for idx,cell in enumerate(row)}    \n",
    "    sheets.append(site)\n",
    "\n",
    "pprint(sheets)"
   ]
  },
  {
   "cell_type": "code",
   "execution_count": 45,
   "metadata": {},
   "outputs": [
    {
     "name": "stdout",
     "output_type": "stream",
     "text": [
      "{'sitename': '永和', 'county': '新北市', 'aqi': 35, 'pollutant': None, 'status': '良好', 'so2': 1.1, 'co': 0.44, 'o3': 37.8, 'o3_8hr': 32, 'pm10': 40, 'pm2.5': 12, 'no2': 13.6, 'nox': 16.5, 'no': 2.9, 'windspeed': 2.2, 'winddirec': 82, 'datacreationdate': '2024-11-26 20:00', 'unit': None, 'co_8hr': 0.4, 'pm2.5_avg': 10.7, 'pm10_avg': 32, 'so2_avg': 1, 'longitude': 121.516306, 'latitude': 25.017, 'siteid': 70}\n",
      "{'sitename': '永和', 'county': '新北市', 'aqi': 34, 'pollutant': None, 'status': '良好', 'so2': 1, 'co': 0.48, 'o3': 36.7, 'o3_8hr': 29.7, 'pm10': 39, 'pm2.5': 14, 'no2': 15.4, 'nox': 19, 'no': 3.6, 'windspeed': 2.7, 'winddirec': 73, 'datacreationdate': '2024-11-26 19:00', 'unit': None, 'co_8hr': 0.4, 'pm2.5_avg': 10.4, 'pm10_avg': 29, 'so2_avg': 1, 'longitude': 121.516306, 'latitude': 25.017, 'siteid': 70}\n",
      "{'sitename': '永和', 'county': '新北市', 'aqi': 34, 'pollutant': None, 'status': '良好', 'so2': 1, 'co': 0.48, 'o3': 36.7, 'o3_8hr': 29.7, 'pm10': 39, 'pm2.5': 14, 'no2': 15.4, 'nox': 19, 'no': 3.6, 'windspeed': 2.7, 'winddirec': 73, 'datacreationdate': '2024-11-26 19:00', 'unit': None, 'co_8hr': 0.4, 'pm2.5_avg': 10.4, 'pm10_avg': 29, 'so2_avg': 1, 'longitude': 121.516306, 'latitude': 25.017, 'siteid': 70}\n",
      "{'sitename': '永和', 'county': '新北市', 'aqi': 31, 'pollutant': None, 'status': '良好', 'so2': 1.1, 'co': 0.49, 'o3': 36.2, 'o3_8hr': 27.1, 'pm10': 44, 'pm2.5': 15, 'no2': 14.8, 'nox': 18.1, 'no': 3.2, 'windspeed': 1.7, 'winddirec': 77, 'datacreationdate': '2024-11-26 18:00', 'unit': None, 'co_8hr': 0.4, 'pm2.5_avg': 9.5, 'pm10_avg': 27, 'so2_avg': 1, 'longitude': 121.516306, 'latitude': 25.017, 'siteid': 70}\n",
      "{'sitename': '永和', 'county': '新北市', 'aqi': 31, 'pollutant': None, 'status': '良好', 'so2': 1.1, 'co': 0.49, 'o3': 36.2, 'o3_8hr': 27.1, 'pm10': 44, 'pm2.5': 15, 'no2': 14.8, 'nox': 18.1, 'no': 3.2, 'windspeed': 1.7, 'winddirec': 77, 'datacreationdate': '2024-11-26 18:00', 'unit': None, 'co_8hr': 0.4, 'pm2.5_avg': 9.5, 'pm10_avg': 27, 'so2_avg': 1, 'longitude': 121.516306, 'latitude': 25.017, 'siteid': 70}\n",
      "{'sitename': '永和', 'county': '新北市', 'aqi': 28, 'pollutant': None, 'status': '良好', 'so2': 1, 'co': 0.4, 'o3': 32.7, 'o3_8hr': 24.4, 'pm10': 40, 'pm2.5': 11, 'no2': 15, 'nox': 20.5, 'no': 5.4, 'windspeed': 2.4, 'winddirec': 75, 'datacreationdate': '2024-11-26 17:00', 'unit': None, 'co_8hr': 0.4, 'pm2.5_avg': 8.5, 'pm10_avg': 23, 'so2_avg': 1, 'longitude': 121.516306, 'latitude': 25.017, 'siteid': 70}\n",
      "{'sitename': '永和', 'county': '新北市', 'aqi': 28, 'pollutant': None, 'status': '良好', 'so2': 1, 'co': 0.4, 'o3': 32.7, 'o3_8hr': 24.4, 'pm10': 40, 'pm2.5': 11, 'no2': 15, 'nox': 20.5, 'no': 5.4, 'windspeed': 2.4, 'winddirec': 75, 'datacreationdate': '2024-11-26 17:00', 'unit': None, 'co_8hr': 0.4, 'pm2.5_avg': 8.5, 'pm10_avg': 23, 'so2_avg': 1, 'longitude': 121.516306, 'latitude': 25.017, 'siteid': 70}\n",
      "{'sitename': '永和', 'county': '新北市', 'aqi': 24, 'pollutant': None, 'status': '良好', 'so2': 0.9, 'co': 0.37, 'o3': 33.5, 'o3_8hr': 21.5, 'pm10': 30, 'pm2.5': 11, 'no2': 10.3, 'nox': 13.6, 'no': 3.2, 'windspeed': 2.7, 'winddirec': 90, 'datacreationdate': '2024-11-26 16:00', 'unit': None, 'co_8hr': 0.5, 'pm2.5_avg': 7.5, 'pm10_avg': 19, 'so2_avg': 1, 'longitude': 121.516306, 'latitude': 25.017, 'siteid': 70}\n",
      "{'sitename': '永和', 'county': '新北市', 'aqi': 24, 'pollutant': None, 'status': '良好', 'so2': 0.9, 'co': 0.37, 'o3': 33.5, 'o3_8hr': 21.5, 'pm10': 30, 'pm2.5': 11, 'no2': 10.3, 'nox': 13.6, 'no': 3.2, 'windspeed': 2.7, 'winddirec': 90, 'datacreationdate': '2024-11-26 16:00', 'unit': None, 'co_8hr': 0.5, 'pm2.5_avg': 7.5, 'pm10_avg': 19, 'so2_avg': 1, 'longitude': 121.516306, 'latitude': 25.017, 'siteid': 70}\n",
      "{'sitename': '永和', 'county': '新北市', 'aqi': 22, 'pollutant': None, 'status': '良好', 'so2': 0.9, 'co': 0.41, 'o3': 30.2, 'o3_8hr': 18.6, 'pm10': 27, 'pm2.5': 8, 'no2': 10.3, 'nox': 14.5, 'no': 4.2, 'windspeed': 3.6, 'winddirec': 67, 'datacreationdate': '2024-11-26 15:00', 'unit': None, 'co_8hr': 0.7, 'pm2.5_avg': 6.7, 'pm10_avg': 15, 'so2_avg': 1, 'longitude': 121.516306, 'latitude': 25.017, 'siteid': 70}\n",
      "{'sitename': '永和', 'county': '新北市', 'aqi': 22, 'pollutant': None, 'status': '良好', 'so2': 0.9, 'co': 0.41, 'o3': 30.2, 'o3_8hr': 18.6, 'pm10': 27, 'pm2.5': 8, 'no2': 10.3, 'nox': 14.5, 'no': 4.2, 'windspeed': 3.6, 'winddirec': 67, 'datacreationdate': '2024-11-26 15:00', 'unit': None, 'co_8hr': 0.7, 'pm2.5_avg': 6.7, 'pm10_avg': 15, 'so2_avg': 1, 'longitude': 121.516306, 'latitude': 25.017, 'siteid': 70}\n",
      "{'sitename': '永和', 'county': '新北市', 'aqi': 20, 'pollutant': None, 'status': '良好', 'so2': 0.9, 'co': 0.48, 'o3': 25.3, 'o3_8hr': 16.5, 'pm10': 21, 'pm2.5': 9, 'no2': 10.4, 'nox': 15.2, 'no': 4.7, 'windspeed': 3.3, 'winddirec': 81, 'datacreationdate': '2024-11-26 14:00', 'unit': None, 'co_8hr': 0.7, 'pm2.5_avg': 6.2, 'pm10_avg': 13, 'so2_avg': 1, 'longitude': 121.516306, 'latitude': 25.017, 'siteid': 70}\n"
     ]
    }
   ],
   "source": [
    "for site in sheets:\n",
    "    if site['sitename'] == '永和':\n",
    "        print(site)"
   ]
  }
 ],
 "metadata": {
  "kernelspec": {
   "display_name": "base",
   "language": "python",
   "name": "python3"
  },
  "language_info": {
   "codemirror_mode": {
    "name": "ipython",
    "version": 3
   },
   "file_extension": ".py",
   "mimetype": "text/x-python",
   "name": "python",
   "nbconvert_exporter": "python",
   "pygments_lexer": "ipython3",
   "version": "3.12.2"
  }
 },
 "nbformat": 4,
 "nbformat_minor": 2
}
