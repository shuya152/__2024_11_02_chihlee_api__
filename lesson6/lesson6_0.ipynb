{
 "cells": [
  {
   "cell_type": "code",
   "execution_count": 1,
   "metadata": {},
   "outputs": [
    {
     "name": "stdout",
     "output_type": "stream",
     "text": [
      "13 39 40 43 45 48 35 special:35\n"
     ]
    }
   ],
   "source": [
    "import random\n",
    "\n",
    "def main():\n",
    "    set1:set = set()\n",
    "\n",
    "    while len(set1) < 7:\n",
    "        myrandNum = random.randint(1,49)\n",
    "        set1.add(myrandNum)\n",
    "        if len(set1) == 7:\n",
    "            SpecialNum = myrandNum\n",
    "            set1.remove(SpecialNum)\n",
    "            mysetlist = sorted(set1)\n",
    "            break\n",
    "    \n",
    "    mysetlist.append(SpecialNum)\n",
    "\n",
    "    for num in mysetlist:\n",
    "        print(num, end=\" \")\n",
    "\n",
    "    print(f\"special:{SpecialNum}\")\n",
    "\n",
    "if __name__ == '__main__':\n",
    "    main()"
   ]
  }
 ],
 "metadata": {
  "kernelspec": {
   "display_name": "base",
   "language": "python",
   "name": "python3"
  },
  "language_info": {
   "codemirror_mode": {
    "name": "ipython",
    "version": 3
   },
   "file_extension": ".py",
   "mimetype": "text/x-python",
   "name": "python",
   "nbconvert_exporter": "python",
   "pygments_lexer": "ipython3",
   "version": "3.12.3"
  }
 },
 "nbformat": 4,
 "nbformat_minor": 2
}
