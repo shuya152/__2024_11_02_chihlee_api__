{
 "cells": [
  {
   "cell_type": "code",
   "execution_count": 5,
   "metadata": {},
   "outputs": [],
   "source": [
    "class Person:\n",
    "    def __init__(self,name:str,age:int):\n",
    "        self.name = name #attribute\n",
    "        self.age = age #attribute\n",
    "\n",
    "    #實體方法(instance method)\n",
    "    def echo(self):\n",
    "        print(f'我的姓名是:{self.name}')\n",
    "        print(f'我的age是:{self.age}')"
   ]
  },
  {
   "cell_type": "code",
   "execution_count": 9,
   "metadata": {},
   "outputs": [
    {
     "name": "stdout",
     "output_type": "stream",
     "text": [
      "我的姓名是:徐國堂\n",
      "我的age是:35\n"
     ]
    }
   ],
   "source": [
    "p1 = Person('徐國堂',age=35).echo()"
   ]
  },
  {
   "cell_type": "code",
   "execution_count": 7,
   "metadata": {},
   "outputs": [
    {
     "name": "stdout",
     "output_type": "stream",
     "text": [
      "我的姓名是:robert\n",
      "我的age是:34\n"
     ]
    }
   ],
   "source": [
    "p2 = Person(age=34,name='robert').echo()"
   ]
  }
 ],
 "metadata": {
  "kernelspec": {
   "display_name": "base",
   "language": "python",
   "name": "python3"
  },
  "language_info": {
   "codemirror_mode": {
    "name": "ipython",
    "version": 3
   },
   "file_extension": ".py",
   "mimetype": "text/x-python",
   "name": "python",
   "nbconvert_exporter": "python",
   "pygments_lexer": "ipython3",
   "version": "3.12.7"
  }
 },
 "nbformat": 4,
 "nbformat_minor": 2
}
