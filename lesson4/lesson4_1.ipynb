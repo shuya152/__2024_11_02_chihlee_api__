{
 "cells": [
  {
   "cell_type": "code",
   "execution_count": 5,
   "metadata": {},
   "outputs": [
    {
     "data": {
      "text/plain": [
       "5"
      ]
     },
     "execution_count": 5,
     "metadata": {},
     "output_type": "execute_result"
    }
   ],
   "source": [
    "import math\n",
    "math.comb(5,1)"
   ]
  },
  {
   "cell_type": "code",
   "execution_count": 7,
   "metadata": {},
   "outputs": [
    {
     "name": "stdout",
     "output_type": "stream",
     "text": [
      "輸入格式錯誤,請重新輸入!\n",
      "輸入格式錯誤,請重新輸入!\n",
      "您的BMI值是24.62\n",
      "您的體重過重\n",
      "程式結束\n"
     ]
    }
   ],
   "source": [
    "# 20241116 homework BMI計算\n",
    "def get_status(bmi:float)->str:\n",
    "    '''\n",
    "    docstring\n",
    "    Parameter:\n",
    "        bmi:bmi值可以整數或浮點數\n",
    "    Return:str\n",
    "        會傳出5個狀態\n",
    "        - 正常範圍\n",
    "        - 過重 \n",
    "        - 輕度肥胖      \n",
    "    '''\n",
    "    if bmi >= 35 :\n",
    "        bmi_str = '重度肥胖'\n",
    "    elif bmi >= 30 :\n",
    "        bmi_str = '中度肥胖'\n",
    "    elif bmi >= 27 :\n",
    "        bmi_str = '輕度肥胖'\n",
    "    elif bmi >= 24 :\n",
    "        bmi_str = '過重'\n",
    "    elif bmi >= 18.5 :\n",
    "        bmi_str = '正常範圍'\n",
    "    else :\n",
    "        bmi_str = '過輕' \n",
    "    return bmi_str\n",
    "    \n",
    "def BMI_math(height_cm:float, weight_kg:float)->tuple[float,str]:\n",
    "    height_m = round(height_cm/100, 2)\n",
    "    bmi_kg_m2 = round(weight_kg/(height_m**2), 2)\n",
    "    bmi_str = get_status(bmi_kg_m2)\n",
    "    return bmi_kg_m2, bmi_str\n",
    "\n",
    "while(True):\n",
    "    try:\n",
    "        height_cm = float(input(\"請輸入身高(公分):\"))\n",
    "        weight_kg = float(input(\"請輸入體重(公斤):\"))\n",
    "        bmi_value, bmi_str = BMI_math(height_cm, weight_kg)\n",
    "        break\n",
    "    except Exception:\n",
    "        print('輸入格式錯誤,請重新輸入!')\n",
    "    \n",
    "print(f\"您的BMI值是{bmi_value}\\n您的體重{bmi_str}\")\n",
    "print(\"程式結束\")\n"
   ]
  }
 ],
 "metadata": {
  "kernelspec": {
   "display_name": "base",
   "language": "python",
   "name": "python3"
  },
  "language_info": {
   "codemirror_mode": {
    "name": "ipython",
    "version": 3
   },
   "file_extension": ".py",
   "mimetype": "text/x-python",
   "name": "python",
   "nbconvert_exporter": "python",
   "pygments_lexer": "ipython3",
   "version": "3.12.7"
  }
 },
 "nbformat": 4,
 "nbformat_minor": 2
}
