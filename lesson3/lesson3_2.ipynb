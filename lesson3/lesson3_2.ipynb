{
 "cells": [
  {
   "cell_type": "markdown",
   "metadata": {},
   "source": [
    "* https://docs.python.org/zh-tw/3/library/index.html\n",
    "* https://docs.python.org/zh-tw/3/library/math.html\n",
    "* https://docs.python.org/zh-tw/3/library/random.html"
   ]
  },
  {
   "cell_type": "code",
   "execution_count": 7,
   "metadata": {},
   "outputs": [
    {
     "name": "stdout",
     "output_type": "stream",
     "text": [
      "=============猜數字遊戲=============\n",
      "\n",
      "再大一點\n",
      "再大一點\n",
      "再小一點\n",
      "再小一點\n",
      "你答對了!答案是:78\n",
      "你猜了5次\n",
      "應用程式結束\n"
     ]
    }
   ],
   "source": [
    "import random\n",
    "min = 1\n",
    "max = 100\n",
    "target = random.randint(min,max)\n",
    "count = 0\n",
    "print(\"=============猜數字遊戲=============\\n\")\n",
    "\n",
    "while True:\n",
    "    keyin = int(input(f\"猜數字範圍{min}~{max}:\"))\n",
    "    count += 1\n",
    "    if keyin <= max and keyin >= min:\n",
    "        if target == keyin:\n",
    "            print(f\"你答對了!答案是:{target}\")\n",
    "            break\n",
    "        elif keyin > target:\n",
    "            max = keyin - 1\n",
    "            print(\"再小一點\")\n",
    "        elif keyin < target:\n",
    "            min = keyin + 1\n",
    "            print(\"再大一點\")\n",
    "\n",
    "        # continue (可寫可不寫)\n",
    "    else:\n",
    "        print(\"輸入範圍有誤\")\n",
    "        # continue (可寫可不寫)\n",
    "\n",
    "print(f\"你猜了{count}次\")\n",
    "print('應用程式結束')"
   ]
  }
 ],
 "metadata": {
  "kernelspec": {
   "display_name": "base",
   "language": "python",
   "name": "python3"
  },
  "language_info": {
   "codemirror_mode": {
    "name": "ipython",
    "version": 3
   },
   "file_extension": ".py",
   "mimetype": "text/x-python",
   "name": "python",
   "nbconvert_exporter": "python",
   "pygments_lexer": "ipython3",
   "version": "3.12.3"
  }
 },
 "nbformat": 4,
 "nbformat_minor": 2
}
