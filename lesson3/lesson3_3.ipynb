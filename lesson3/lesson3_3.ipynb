{
 "cells": [
  {
   "cell_type": "code",
   "execution_count": 2,
   "metadata": {},
   "outputs": [
    {
     "name": "stdout",
     "output_type": "stream",
     "text": [
      "25\n",
      "=============猜數字遊戲=============\n",
      "\n",
      "你答對了!答案是:25\n",
      "你猜了1次\n",
      "應用程式結束\n"
     ]
    }
   ],
   "source": [
    "import random\n",
    "while True:\n",
    "    min = 1\n",
    "    max = 100\n",
    "    target = random.randint(min,max)\n",
    "    count = 0\n",
    "    print(target)\n",
    "    print(\"=============猜數字遊戲=============\\n\")\n",
    "    while True:\n",
    "        keyin = int(input(f\"猜數字範圍{min}~{max}:\"))\n",
    "        count += 1\n",
    "        if keyin <= max and keyin >= min:\n",
    "            if target == keyin:\n",
    "                print(f\"你答對了!答案是:{target}\")\n",
    "                break\n",
    "            elif keyin > target:\n",
    "                max = keyin - 1\n",
    "                print(\"再小一點\")\n",
    "            elif keyin < target:\n",
    "                min = keyin + 1\n",
    "                print(\"再大一點\")\n",
    "\n",
    "            # continue (可寫可不寫)\n",
    "        else:\n",
    "            print(\"輸入範圍有誤\")\n",
    "            # continue (可寫可不寫)\n",
    "    answering = input(\"請問還要繼續嗎?(y,n)\")\n",
    "    if answering == 'n':\n",
    "        break\n",
    "\n",
    "print(f\"你猜了{count}次\")\n",
    "print('應用程式結束')"
   ]
  },
  {
   "cell_type": "code",
   "execution_count": 3,
   "metadata": {},
   "outputs": [
    {
     "name": "stdout",
     "output_type": "stream",
     "text": [
      "37\n",
      "=============猜數字遊戲=============\n",
      "\n",
      "再小一點\n",
      "你答對了!答案是:37\n",
      "你猜了1次\n",
      "應用程式結束\n"
     ]
    }
   ],
   "source": [
    "import random\n",
    "def play():\n",
    "    min = 1\n",
    "    max = 100\n",
    "    target = random.randint(min,max)\n",
    "    count = 0\n",
    "    print(target)\n",
    "    print(\"=============猜數字遊戲=============\\n\")\n",
    "    while True:\n",
    "        keyin = int(input(f\"猜數字範圍{min}~{max}:\"))\n",
    "        count += 1\n",
    "        if keyin <= max and keyin >= min:\n",
    "            if target == keyin:\n",
    "                print(f\"你答對了!答案是:{target}\")\n",
    "                break\n",
    "            elif keyin > target:\n",
    "                max = keyin - 1\n",
    "                print(\"再小一點\")\n",
    "            elif keyin < target:\n",
    "                min = keyin + 1\n",
    "                print(\"再大一點\")\n",
    "\n",
    "            # continue (可寫可不寫)\n",
    "        else:\n",
    "            print(\"輸入範圍有誤\")\n",
    "            # continue (可寫可不寫)\n",
    "while True:\n",
    "    play()\n",
    "    answering = input(\"請問還要繼續嗎?(y,n)\")\n",
    "    if answering == 'n':\n",
    "        break\n",
    "\n",
    "print(f\"你猜了{count}次\")\n",
    "print('應用程式結束')"
   ]
  },
  {
   "cell_type": "code",
   "execution_count": null,
   "metadata": {},
   "outputs": [
    {
     "data": {
      "text/plain": [
       "5.0"
      ]
     },
     "execution_count": 4,
     "metadata": {},
     "output_type": "execute_result"
    }
   ],
   "source": [
    "# 算直角三角形斜邊長\n",
    "import math\n",
    "def theorem(side:float, another_side:float) -> float:\n",
    "    return math.sqrt( side ** 2 + another_side ** 2)\n",
    "\n",
    "theorem(3,4)"
   ]
  }
 ],
 "metadata": {
  "kernelspec": {
   "display_name": "base",
   "language": "python",
   "name": "python3"
  },
  "language_info": {
   "codemirror_mode": {
    "name": "ipython",
    "version": 3
   },
   "file_extension": ".py",
   "mimetype": "text/x-python",
   "name": "python",
   "nbconvert_exporter": "python",
   "pygments_lexer": "ipython3",
   "version": "3.12.3"
  }
 },
 "nbformat": 4,
 "nbformat_minor": 2
}
