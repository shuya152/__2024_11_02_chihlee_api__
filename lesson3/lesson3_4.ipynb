{
 "cells": [
  {
   "cell_type": "code",
   "execution_count": 3,
   "metadata": {},
   "outputs": [],
   "source": [
    "def menu(wine:str, entree:str, dessert:str):\n",
    "    print(f'酒類:{wine}')\n",
    "    print(f'主餐:{entree}')\n",
    "    print(f'點心:{dessert}')"
   ]
  },
  {
   "cell_type": "code",
   "execution_count": 4,
   "metadata": {},
   "outputs": [
    {
     "name": "stdout",
     "output_type": "stream",
     "text": [
      "酒類:白酒\n",
      "主餐:牛排\n",
      "點心:蛋糕\n"
     ]
    }
   ],
   "source": [
    "#引數值的呼叫->依據參數的順序\n",
    "menu('白酒','牛排','蛋糕')"
   ]
  },
  {
   "cell_type": "code",
   "execution_count": 5,
   "metadata": {},
   "outputs": [
    {
     "name": "stdout",
     "output_type": "stream",
     "text": [
      "酒類:白酒\n",
      "主餐:牛排\n",
      "點心:蛋糕\n",
      "=================\n",
      "酒類:白酒\n",
      "主餐:牛排\n",
      "點心:蛋糕\n"
     ]
    }
   ],
   "source": [
    "#引數名稱的呼叫->可以不依據順序\n",
    "#引數名稱是使用參數的名稱\n",
    "menu(wine='白酒',entree='牛排',dessert='蛋糕')\n",
    "print(\"=================\")\n",
    "menu(entree='牛排',dessert='蛋糕',wine='白酒')"
   ]
  },
  {
   "cell_type": "code",
   "execution_count": 6,
   "metadata": {},
   "outputs": [
    {
     "name": "stdout",
     "output_type": "stream",
     "text": [
      "酒類:白酒\n",
      "主餐:牛排\n",
      "點心:蛋糕\n"
     ]
    }
   ],
   "source": [
    "#混合呼叫\n",
    "#前面使用引數值呼叫\n",
    "#後面使用引數名稱的呼叫\n",
    "#使用引數名稱呼叫後,後面全部都要使用引數名稱呼叫\n",
    "\n",
    "menu('白酒',dessert='蛋糕',entree='牛排')"
   ]
  }
 ],
 "metadata": {
  "kernelspec": {
   "display_name": "base",
   "language": "python",
   "name": "python3"
  },
  "language_info": {
   "codemirror_mode": {
    "name": "ipython",
    "version": 3
   },
   "file_extension": ".py",
   "mimetype": "text/x-python",
   "name": "python",
   "nbconvert_exporter": "python",
   "pygments_lexer": "ipython3",
   "version": "3.12.3"
  }
 },
 "nbformat": 4,
 "nbformat_minor": 2
}
