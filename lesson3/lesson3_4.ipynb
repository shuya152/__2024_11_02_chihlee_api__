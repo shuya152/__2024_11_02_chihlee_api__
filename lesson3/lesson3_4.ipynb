{
 "cells": [
  {
   "cell_type": "code",
   "execution_count": 3,
   "metadata": {},
   "outputs": [],
   "source": [
    "def menu(wine:str, entree:str, dessert:str):\n",
    "    print(f'酒類:{wine}')\n",
    "    print(f'主餐:{entree}')\n",
    "    print(f'點心:{dessert}')"
   ]
  },
  {
   "cell_type": "code",
   "execution_count": 4,
   "metadata": {},
   "outputs": [
    {
     "name": "stdout",
     "output_type": "stream",
     "text": [
      "酒類:白酒\n",
      "主餐:牛排\n",
      "點心:蛋糕\n"
     ]
    }
   ],
   "source": [
    "#引數值的呼叫->依據參數的順序\n",
    "menu('白酒','牛排','蛋糕')"
   ]
  },
  {
   "cell_type": "code",
   "execution_count": 5,
   "metadata": {},
   "outputs": [
    {
     "name": "stdout",
     "output_type": "stream",
     "text": [
      "酒類:白酒\n",
      "主餐:牛排\n",
      "點心:蛋糕\n",
      "=================\n",
      "酒類:白酒\n",
      "主餐:牛排\n",
      "點心:蛋糕\n"
     ]
    }
   ],
   "source": [
    "#引數名稱的呼叫->可以不依據順序\n",
    "#引數名稱是使用參數的名稱\n",
    "menu(wine='白酒',entree='牛排',dessert='蛋糕')\n",
    "print(\"=================\")\n",
    "menu(entree='牛排',dessert='蛋糕',wine='白酒')"
   ]
  },
  {
   "cell_type": "code",
   "execution_count": 6,
   "metadata": {},
   "outputs": [
    {
     "name": "stdout",
     "output_type": "stream",
     "text": [
      "酒類:白酒\n",
      "主餐:牛排\n",
      "點心:蛋糕\n"
     ]
    }
   ],
   "source": [
    "#混合呼叫\n",
    "#前面使用引數值呼叫\n",
    "#後面使用引數名稱的呼叫\n",
    "#使用引數名稱呼叫後,後面全部都要使用引數名稱呼叫\n",
    "\n",
    "menu('白酒',dessert='蛋糕',entree='牛排')"
   ]
  },
  {
   "cell_type": "code",
   "execution_count": 7,
   "metadata": {},
   "outputs": [
    {
     "name": "stdout",
     "output_type": "stream",
     "text": [
      "酒類:白酒\n",
      "主餐:牛排\n",
      "點心:奶昔\n",
      "=========\n",
      "酒類:白酒\n",
      "主餐:牛排\n",
      "點心:蛋糕\n"
     ]
    }
   ],
   "source": [
    "#指定預設參數的值\n",
    "def menu(wine:str, entree:str, dessert:str='奶昔'):\n",
    "    print(f'酒類:{wine}')\n",
    "    print(f'主餐:{entree}')\n",
    "    print(f'點心:{dessert}')\n",
    "\n",
    "menu('白酒','牛排')\n",
    "print(\"=========\")\n",
    "menu('白酒','牛排',dessert='蛋糕')"
   ]
  },
  {
   "cell_type": "code",
   "execution_count": 8,
   "metadata": {},
   "outputs": [
    {
     "name": "stdout",
     "output_type": "stream",
     "text": [
      "()\n",
      "(1, 2, 3, 'a', 'b', 'c', 3.5, 9.8)\n"
     ]
    }
   ],
   "source": [
    "#沒有限定數量的引數值呼叫\n",
    "def print_args(*args):\n",
    "    print(args)\n",
    "\n",
    "print_args()\n",
    "print_args(1, 2, 3, 'a', 'b', 'c', 3.5, 9.8)"
   ]
  },
  {
   "cell_type": "code",
   "execution_count": 9,
   "metadata": {},
   "outputs": [
    {
     "name": "stdout",
     "output_type": "stream",
     "text": [
      "{'one': 1, 'two': 2, 'three': 3}\n",
      "============\n",
      "{}\n"
     ]
    }
   ],
   "source": [
    "#沒有限定數量的引數名稱呼叫\n",
    "def print_kwargs(**kwargs):\n",
    "    print(kwargs)\n",
    "\n",
    "print_kwargs(one=1,two=2,three=3)\n",
    "print(\"============\")\n",
    "print_kwargs()"
   ]
  },
  {
   "cell_type": "code",
   "execution_count": 10,
   "metadata": {},
   "outputs": [
    {
     "name": "stdout",
     "output_type": "stream",
     "text": [
      "==============\n",
      "\n",
      "\n",
      "\n",
      "==============\n"
     ]
    }
   ],
   "source": [
    "print(\"==============\")\n",
    "print()\n",
    "print()\n",
    "print()\n",
    "print(\"==============\")"
   ]
  },
  {
   "cell_type": "code",
   "execution_count": 11,
   "metadata": {},
   "outputs": [
    {
     "name": "stdout",
     "output_type": "stream",
     "text": [
      "1-2-3-4-a-b-c.\n"
     ]
    }
   ],
   "source": [
    "print(1, 2, 3, 4, 'a', 'b', 'c',end='.\\n',sep='-')"
   ]
  }
 ],
 "metadata": {
  "kernelspec": {
   "display_name": "base",
   "language": "python",
   "name": "python3"
  },
  "language_info": {
   "codemirror_mode": {
    "name": "ipython",
    "version": 3
   },
   "file_extension": ".py",
   "mimetype": "text/x-python",
   "name": "python",
   "nbconvert_exporter": "python",
   "pygments_lexer": "ipython3",
   "version": "3.12.3"
  }
 },
 "nbformat": 4,
 "nbformat_minor": 2
}
