{
 "cells": [
  {
   "cell_type": "code",
   "execution_count": null,
   "metadata": {},
   "outputs": [],
   "source": [
    "class BMI:\n",
    "    def __init__(self,name:str,height:float,weight:float):\n",
    "        # attribute\n",
    "        self.name = name\n",
    "        self.height = height\n",
    "        self.weight = weight\n",
    "\n",
    "    # instance method\n",
    "    def get_status(self,bmi:float)->str:\n",
    "        outStatus = \"\"        \n",
    "        if bmi >= 35 :\n",
    "            outStatus = '重度肥胖'\n",
    "        elif bmi >= 30 :\n",
    "            outStatus = '中度肥胖'\n",
    "        elif bmi >= 27 :\n",
    "            outStatus = '輕度肥胖'\n",
    "        elif bmi >= 24 :\n",
    "            outStatus = '體重過重'\n",
    "        elif bmi >= 18.5 :\n",
    "            outStatus = '正常範圍'\n",
    "        else :\n",
    "            outStatus = '體重過輕' \n",
    "        \n",
    "        return outStatus\n",
    "    \n",
    "    def get_BMI(self)->float:\n",
    "        return round(self.weight / ((self.height/100)**2), 2)\n",
    "        \n",
    "\n",
    "\n",
    "def main():\n",
    "    while(True):\n",
    "        try:\n",
    "            name = input(\"姓名:\")\n",
    "            height = float(input(\"請輸入身高(公分):\"))\n",
    "            weight = float(input(\"請輸入體重(公斤):\"))\n",
    "            p1 = BMI(name, height, weight)\n",
    "            break\n",
    "        except Exception:\n",
    "            print('輸入格式錯誤,請重新輸入!')\n",
    "        \n",
    "    bmi = p1.get_BMI()\n",
    "    print(f'您的BMI是:{bmi}')\n",
    "    print(f'您的體重是:{weight}')\n",
    "    print(f'您的BMI指數:{p1.get_status(bmi)}')\n",
    "\n",
    "if __name__ == '__main__':\n",
    "    main()"
   ]
  }
 ],
 "metadata": {
  "kernelspec": {
   "display_name": "base",
   "language": "python",
   "name": "python3"
  },
  "language_info": {
   "name": "python",
   "version": "3.12.7"
  }
 },
 "nbformat": 4,
 "nbformat_minor": 2
}
