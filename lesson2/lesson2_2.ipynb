{
 "cells": [
  {
   "cell_type": "markdown",
   "metadata": {},
   "source": [
    "* 13:30~46:30 https://www.youtube.com/watch?v=Hng8m3g-tL4\n",
    "* 講義 https://github.com/roberthsu2003/python/tree/master/%E6%A2%9D%E4%BB%B6%E5%88%86%E6%9E%90"
   ]
  },
  {
   "cell_type": "code",
   "execution_count": null,
   "metadata": {},
   "outputs": [
    {
     "name": "stdout",
     "output_type": "stream",
     "text": [
      "304.5\n",
      "300\n",
      "300\n"
     ]
    }
   ],
   "source": [
    "#學生總分為300\n",
    "#有些學生可以加分5%\n",
    "#如果加分超過300,就以300分為準\n",
    "\n",
    "scores=int(input('請輸入學生分數(最高300分):'))\n",
    "is_add=input('學生是否符合加分條件?(y,n)')\n",
    "\n",
    "if is_add=='y':\n",
    "    scores*=1.05\n",
    "    print(scores)\n",
    "    if scores>300:\n",
    "        scores=300\n",
    "    pass #[關鍵字]先不做任何事\n",
    "\n",
    "print(scores)\n",
    "print(round(scores))"
   ]
  },
  {
   "cell_type": "markdown",
   "metadata": {},
   "source": [
    "##### raise錯誤  \n",
    "* 當使用者輸入的內容有錯"
   ]
  },
  {
   "cell_type": "code",
   "execution_count": 2,
   "metadata": {},
   "outputs": [
    {
     "name": "stdout",
     "output_type": "stream",
     "text": [
      "格式錯誤\n",
      "應用程式結束\n"
     ]
    }
   ],
   "source": [
    "#學生總分為300\n",
    "#有些學生可以加分5%\n",
    "#如果加分超過300,就以300分為準\n",
    "\n",
    "try:\n",
    "    scores=int(input('請輸入學生分數(最高300分):'))\n",
    "    is_add=input('學生是否符合加分條件?(y,n)')\n",
    "    if is_add=='y':\n",
    "        scores*=1.05\n",
    "        print(scores)\n",
    "        if scores>300:\n",
    "            scores=300\n",
    "        pass #[關鍵字]先不做任何事\n",
    "\n",
    "    print(scores)\n",
    "    print(round(scores))\n",
    "except ValueError:\n",
    "    print('格式錯誤')\n",
    "\n",
    "print('應用程式結束')"
   ]
  }
 ],
 "metadata": {
  "kernelspec": {
   "display_name": "base",
   "language": "python",
   "name": "python3"
  },
  "language_info": {
   "codemirror_mode": {
    "name": "ipython",
    "version": 3
   },
   "file_extension": ".py",
   "mimetype": "text/x-python",
   "name": "python",
   "nbconvert_exporter": "python",
   "pygments_lexer": "ipython3",
   "version": "3.12.2"
  }
 },
 "nbformat": 4,
 "nbformat_minor": 2
}
