{
 "cells": [
  {
   "cell_type": "markdown",
   "metadata": {},
   "source": [
    "* 13:30~46:30 https://www.youtube.com/watch?v=Hng8m3g-tL4\n",
    "* 講義 https://github.com/roberthsu2003/python/tree/master/%E6%A2%9D%E4%BB%B6%E5%88%86%E6%9E%90"
   ]
  },
  {
   "cell_type": "code",
   "execution_count": null,
   "metadata": {},
   "outputs": [
    {
     "name": "stdout",
     "output_type": "stream",
     "text": [
      "304.5\n",
      "300\n",
      "300\n"
     ]
    }
   ],
   "source": [
    "#學生總分為300\n",
    "#有些學生可以加分5%\n",
    "#如果加分超過300,就以300分為準\n",
    "\n",
    "scores=int(input('請輸入學生分數(最高300分):'))\n",
    "is_add=input('學生是否符合加分條件?(y,n)')\n",
    "\n",
    "if is_add=='y':\n",
    "    scores*=1.05\n",
    "    print(scores)\n",
    "    if scores>300:\n",
    "        scores=300\n",
    "    pass #[關鍵字]先不做任何事\n",
    "\n",
    "print(scores)\n",
    "print(round(scores))"
   ]
  },
  {
   "cell_type": "markdown",
   "metadata": {},
   "source": [
    "**raise錯誤處理**\n",
    "* 當使用者輸入的內容有錯"
   ]
  },
  {
   "cell_type": "code",
   "execution_count": null,
   "metadata": {},
   "outputs": [
    {
     "name": "stdout",
     "output_type": "stream",
     "text": [
      "262.5\n",
      "學生分數是:262.5分\n",
      "262\n",
      "應用程式結束\n"
     ]
    }
   ],
   "source": [
    "#學生總分為300\n",
    "#有些學生可以加分5%\n",
    "#如果加分超過300,就以300分為準\n",
    "\n",
    "try:\n",
    "    scores=int(input('請輸入學生分數(最高300分):'))\n",
    "    is_add=input('學生是否符合加分條件?(y,n)')\n",
    "    if is_add=='y':\n",
    "        scores*=1.05\n",
    "        print(scores)\n",
    "        if scores>300:\n",
    "            scores=300\n",
    "        pass #[關鍵字]先不做任何事\n",
    "\n",
    "    print(scores)\n",
    "    print(round(scores))\n",
    "except ValueError:\n",
    "    print('分數格式錯誤')\n",
    "except NameError:\n",
    "    print('加分選項錯誤')\n",
    "except Exception:\n",
    "    print('發生預期外的錯誤')\n",
    "\n",
    "print('應用程式結束')"
   ]
  },
  {
   "cell_type": "markdown",
   "metadata": {},
   "source": [
    "* try+else"
   ]
  },
  {
   "cell_type": "code",
   "execution_count": null,
   "metadata": {},
   "outputs": [
    {
     "name": "stdout",
     "output_type": "stream",
     "text": [
      "5\n",
      "5\n",
      "應用程式結束\n"
     ]
    }
   ],
   "source": [
    "#學生總分為300\n",
    "#有些學生可以加分5%\n",
    "#如果加分超過300,就以300分為準\n",
    "\n",
    "try:\n",
    "    scores=int(input('請輸入學生分數(最高300分):'))\n",
    "    is_add=input('學生是否符合加分條件?(y,n)')\n",
    "except Exception:\n",
    "    print('發生錯誤')\n",
    "else:\n",
    "    if is_add=='y':\n",
    "        scores*=1.05\n",
    "        print(scores)\n",
    "        if scores>300:\n",
    "            scores=300\n",
    "        pass #[關鍵字]先不做任何事\n",
    "    print(scores)\n",
    "    print(round(scores))\n",
    "\n",
    "print('應用程式結束')"
   ]
  },
  {
   "cell_type": "markdown",
   "metadata": {},
   "source": [
    "* 字串差補:  \n",
    "f\"xxxxxx{變數}x\""
   ]
  },
  {
   "cell_type": "code",
   "execution_count": 11,
   "metadata": {},
   "outputs": [
    {
     "name": "stdout",
     "output_type": "stream",
     "text": [
      "加分後學生分數是:262.5分\n",
      "四捨五入後分數為:262分\n",
      "應用程式結束\n"
     ]
    }
   ],
   "source": [
    "#學生總分為300\n",
    "#有些學生可以加分5%\n",
    "#如果加分超過300,就以300分為準\n",
    "\n",
    "try:\n",
    "    scores=int(input('請輸入學生分數(最高300分):'))\n",
    "    is_add=input('學生是否符合加分條件?(y,n)')\n",
    "except Exception:\n",
    "    print('發生錯誤')\n",
    "else:\n",
    "    if is_add=='y':\n",
    "        scores*=1.05\n",
    "        print(\"加分後學生分數是:\" + str(scores) + \"分\")\n",
    "        if scores>300:\n",
    "            scores=300\n",
    "        pass #[關鍵字]先不做任何事\n",
    "    print(f\"四捨五入後分數為:{round(scores)}分\")\n",
    "\n",
    "print('應用程式結束')"
   ]
  },
  {
   "cell_type": "code",
   "execution_count": null,
   "metadata": {},
   "outputs": [
    {
     "name": "stdout",
     "output_type": "stream",
     "text": [
      "特優\n"
     ]
    }
   ],
   "source": [
    "scores=int(input('請輸入學生分數'))\n",
    "if scores >= 90:\n",
    "    print('特優')\n",
    "elif scores >= 60:\n",
    "    print('及格')\n",
    "else:\n",
    "    print('不及格')"
   ]
  },
  {
   "cell_type": "code",
   "execution_count": null,
   "metadata": {},
   "outputs": [
    {
     "name": "stdout",
     "output_type": "stream",
     "text": [
      "丁\n"
     ]
    }
   ],
   "source": [
    "# 90(含)~100分為「優」\n",
    "# 80(含)~89分為「甲」\n",
    "# 70(含)~79分為「乙」\n",
    "# 60(含)~69分為「丙」\n",
    "# 0(含)~59分為「丁」\n",
    "\n",
    "scores=int(input('請輸入學生分數'))\n",
    "if scores >= 90:\n",
    "    print('優')\n",
    "elif scores >= 80:\n",
    "    print('甲')\n",
    "elif scores >= 70:\n",
    "    print('乙')\n",
    "elif scores >= 60:\n",
    "    print('丙')\n",
    "else:\n",
    "    print('丁')"
   ]
  },
  {
   "cell_type": "markdown",
   "metadata": {},
   "source": [
    "* 2個條件巢狀判斷"
   ]
  },
  {
   "cell_type": "code",
   "execution_count": null,
   "metadata": {},
   "outputs": [
    {
     "name": "stdout",
     "output_type": "stream",
     "text": [
      "獎金:0元\n"
     ]
    }
   ],
   "source": [
    "#巢狀判斷\n",
    "#國文100分,同時數學100分,獎金1000\n",
    "#國文100分,或者數學100分,獎金500\n",
    "#不然0\n",
    "\n",
    "chinese = int(input(\"請輸入國文分數\"))\n",
    "math = int(input(\"請輸入數學分數\"))\n",
    "\n",
    "if chinese == 100:\n",
    "    if math == 100:\n",
    "        bonus = 1000\n",
    "    else:\n",
    "        bonus = 500\n",
    "elif math == 100:\n",
    "    bonus = 500\n",
    "else: \n",
    "    bonus = 0\n",
    "\n",
    "print(f\"獎金:{bonus}元\")"
   ]
  },
  {
   "cell_type": "markdown",
   "metadata": {},
   "source": [
    "* 2個條件邏輯運算子"
   ]
  },
  {
   "cell_type": "code",
   "execution_count": 19,
   "metadata": {},
   "outputs": [
    {
     "name": "stdout",
     "output_type": "stream",
     "text": [
      "獎金:0元\n"
     ]
    }
   ],
   "source": [
    "#巢狀判斷\n",
    "#國文100分,同時數學100分,獎金1000\n",
    "#國文100分,或者數學100分,獎金500\n",
    "#不然0\n",
    "\n",
    "chinese = int(input(\"請輸入國文分數\"))\n",
    "math = int(input(\"請輸入數學分數\"))\n",
    "\n",
    "if chinese == 100 and math == 100:\n",
    "    bonus = 1000\n",
    "elif chinese == 100 or math == 100:\n",
    "    bonus = 500\n",
    "else:\n",
    "    bonus = 0\n",
    "\n",
    "print(f\"獎金:{bonus}元\")"
   ]
  }
 ],
 "metadata": {
  "kernelspec": {
   "display_name": "base",
   "language": "python",
   "name": "python3"
  },
  "language_info": {
   "codemirror_mode": {
    "name": "ipython",
    "version": 3
   },
   "file_extension": ".py",
   "mimetype": "text/x-python",
   "name": "python",
   "nbconvert_exporter": "python",
   "pygments_lexer": "ipython3",
   "version": "3.12.2"
  }
 },
 "nbformat": 4,
 "nbformat_minor": 2
}
